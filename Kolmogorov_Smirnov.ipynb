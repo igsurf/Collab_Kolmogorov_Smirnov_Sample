{
  "nbformat": 4,
  "nbformat_minor": 0,
  "metadata": {
    "colab": {
      "provenance": [],
      "authorship_tag": "ABX9TyMILIk6eGTxbBXIsCeRXWL8",
      "include_colab_link": true
    },
    "kernelspec": {
      "name": "python3",
      "display_name": "Python 3"
    },
    "language_info": {
      "name": "python"
    }
  },
  "cells": [
    {
      "cell_type": "markdown",
      "metadata": {
        "id": "view-in-github",
        "colab_type": "text"
      },
      "source": [
        "<a href=\"https://colab.research.google.com/github/igsurf/Collab_Kolmogorov_Smirnov_Sample/blob/develop/Kolmogorov_Smirnov.ipynb\" target=\"_parent\"><img src=\"https://colab.research.google.com/assets/colab-badge.svg\" alt=\"Open In Colab\"/></a>"
      ]
    },
    {
      "cell_type": "code",
      "execution_count": 1,
      "metadata": {
        "colab": {
          "base_uri": "https://localhost:8080/"
        },
        "id": "BIj5XvNnYFbe",
        "outputId": "9fad8253-32d3-4352-f2bf-94e3f46c6d53"
      },
      "outputs": [
        {
          "output_type": "stream",
          "name": "stdout",
          "text": [
            "KS Test Statistic: 0.035\n",
            "KS Test p-value: 0.5728904395829821\n"
          ]
        }
      ],
      "source": [
        "from scipy import stats\n",
        "import numpy as np\n",
        "\n",
        "# Generate two sample datasets\n",
        "sample1 = np.random.normal(loc=0, scale=1, size=1000)\n",
        "sample2 = np.random.normal(loc=0, scale=1, size=1000)\n",
        "\n",
        "# Perform KS test\n",
        "statistic, p_value = stats.ks_2samp(sample1, sample2)\n",
        "\n",
        "# Print the test statistic and p-value\n",
        "print(\"KS Test Statistic:\", statistic)\n",
        "print(\"KS Test p-value:\", p_value)\n"
      ]
    }
  ]
}